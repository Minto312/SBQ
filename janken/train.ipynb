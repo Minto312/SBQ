{
 "cells": [
  {
   "cell_type": "code",
   "execution_count": 6,
   "metadata": {},
   "outputs": [
    {
     "name": "stderr",
     "output_type": "stream",
     "text": [
      "cwd: /code/janken\n",
      "cwd: /code/janken\n",
      "cwd: /code/janken\n",
      "cwd: /code/janken\n",
      "cwd: /code/janken\n",
      "cwd: /code/janken\n",
      "Using cpu device\n",
      "Using cpu device\n",
      "Using cpu device\n",
      "Using cpu device\n",
      "Using cpu device\n",
      "Using cpu device\n"
     ]
    },
    {
     "name": "stderr",
     "output_type": "stream",
     "text": [
      "Dataset size: 136\n",
      "Dataset size: 136\n",
      "Dataset size: 136\n",
      "Dataset size: 136\n",
      "Dataset size: 136\n",
      "Dataset size: 136\n",
      "Train data size: 108\n",
      "Train data size: 108\n",
      "Train data size: 108\n",
      "Train data size: 108\n",
      "Train data size: 108\n",
      "Train data size: 108\n",
      "Epoch: 0\n",
      "Epoch: 0\n",
      "Epoch: 0\n",
      "Epoch: 0\n",
      "Epoch: 0\n",
      "Epoch: 0\n"
     ]
    },
    {
     "ename": "AttributeError",
     "evalue": "'str' object has no attribute 'to'",
     "output_type": "error",
     "traceback": [
      "\u001b[0;31m---------------------------------------------------------------------------\u001b[0m",
      "\u001b[0;31mAttributeError\u001b[0m                            Traceback (most recent call last)",
      "Cell \u001b[0;32mIn[6], line 65\u001b[0m\n\u001b[1;32m     58\u001b[0m     \u001b[38;5;66;03m# for X, y in train_dataloader:\u001b[39;00m\n\u001b[1;32m     59\u001b[0m     \u001b[38;5;66;03m#     plt.imshow(X)\u001b[39;00m\n\u001b[1;32m     60\u001b[0m     \n\u001b[1;32m     61\u001b[0m     \n\u001b[1;32m     62\u001b[0m     \n\u001b[1;32m     63\u001b[0m \u001b[38;5;66;03m# main()\u001b[39;00m\n\u001b[1;32m     64\u001b[0m \u001b[38;5;28;01mif\u001b[39;00m \u001b[38;5;18m__name__\u001b[39m \u001b[38;5;241m==\u001b[39m \u001b[38;5;124m\"\u001b[39m\u001b[38;5;124m__main__\u001b[39m\u001b[38;5;124m\"\u001b[39m:\n\u001b[0;32m---> 65\u001b[0m     \u001b[43mmain\u001b[49m\u001b[43m(\u001b[49m\u001b[43m)\u001b[49m\n",
      "Cell \u001b[0;32mIn[6], line 51\u001b[0m, in \u001b[0;36mmain\u001b[0;34m()\u001b[0m\n\u001b[1;32m     49\u001b[0m \u001b[38;5;28;01mfor\u001b[39;00m epoch \u001b[38;5;129;01min\u001b[39;00m \u001b[38;5;28mrange\u001b[39m(EPOCHS):\n\u001b[1;32m     50\u001b[0m     logger\u001b[38;5;241m.\u001b[39minfo(\u001b[38;5;124mf\u001b[39m\u001b[38;5;124m\"\u001b[39m\u001b[38;5;124mEpoch: \u001b[39m\u001b[38;5;132;01m{\u001b[39;00mepoch\u001b[38;5;132;01m}\u001b[39;00m\u001b[38;5;124m\"\u001b[39m)\n\u001b[0;32m---> 51\u001b[0m     model, train_batch_loss, val_batch_loss \u001b[38;5;241m=\u001b[39m \u001b[43mtraining\u001b[49m\u001b[43m(\u001b[49m\u001b[43mmodel\u001b[49m\u001b[43m,\u001b[49m\u001b[43m \u001b[49m\u001b[43mtrain_dataloader\u001b[49m\u001b[43m,\u001b[49m\u001b[43m \u001b[49m\u001b[43mval_dataloader\u001b[49m\u001b[43m,\u001b[49m\u001b[43m \u001b[49m\u001b[43mCRITERION\u001b[49m\u001b[43m,\u001b[49m\u001b[43m \u001b[49m\u001b[43mOPTIMIZER\u001b[49m\u001b[43m,\u001b[49m\u001b[43m \u001b[49m\u001b[43mDEVICE\u001b[49m\u001b[43m)\u001b[49m\n\u001b[1;32m     52\u001b[0m     train_loss\u001b[38;5;241m.\u001b[39mappend(train_batch_loss)\n\u001b[1;32m     53\u001b[0m     val_loss\u001b[38;5;241m.\u001b[39mappend(val_batch_loss)\n",
      "File \u001b[0;32m/code/janken/train_utils.py:9\u001b[0m, in \u001b[0;36mtraining\u001b[0;34m(model, train_loader, val_loader, criterion, optimizer, device)\u001b[0m\n\u001b[1;32m      6\u001b[0m train_batch_loss \u001b[38;5;241m=\u001b[39m []\n\u001b[1;32m      7\u001b[0m \u001b[38;5;28;01mfor\u001b[39;00m data, label \u001b[38;5;129;01min\u001b[39;00m train_loader:\n\u001b[1;32m      8\u001b[0m     \u001b[38;5;66;03m# GPUへの転送\u001b[39;00m\n\u001b[0;32m----> 9\u001b[0m     data, label \u001b[38;5;241m=\u001b[39m data\u001b[38;5;241m.\u001b[39mto(device), \u001b[43mlabel\u001b[49m\u001b[38;5;241;43m.\u001b[39;49m\u001b[43mto\u001b[49m(device)\n\u001b[1;32m     10\u001b[0m     \u001b[38;5;66;03m# 1. 勾配リセット\u001b[39;00m\n\u001b[1;32m     11\u001b[0m     optimizer\u001b[38;5;241m.\u001b[39mzero_grad()\n",
      "\u001b[0;31mAttributeError\u001b[0m: 'str' object has no attribute 'to'"
     ]
    }
   ],
   "source": [
    "import os\n",
    "import torch\n",
    "from torch.utils.data import DataLoader, random_split\n",
    "from torchvision import transforms\n",
    "from datasets import MyDatasets\n",
    "from model import Model\n",
    "from train_utils import training\n",
    "import matplotlib.pyplot as plt\n",
    "import logging\n",
    "logger = logging.getLogger(__name__)\n",
    "logger.setLevel(logging.DEBUG)\n",
    "logger.addHandler(logging.StreamHandler())\n",
    "\n",
    "def pre_process(device):\n",
    "    logger.info(f'cwd: {os.getcwd()}')\n",
    "    logger.info(f\"Using {device} device\")\n",
    "    torch.device(device)\n",
    "    \n",
    "    SEED = 1\n",
    "    torch.manual_seed(SEED)\n",
    "    \n",
    "    IMAGES_DIR = \"images\"\n",
    "    TRANSFORMER =  transforms.Compose([\n",
    "        transforms.ToTensor(),\n",
    "    ])\n",
    "    SPRIT_RATIO = 0.8\n",
    "    \n",
    "    dataset = MyDatasets(directory=IMAGES_DIR, transform=TRANSFORMER)\n",
    "    logger.debug(f\"Dataset size: {len(dataset)}\")\n",
    "    return torch.utils.data.random_split(dataset, [int(len(dataset) * SPRIT_RATIO), len(dataset) - int(len(dataset) * SPRIT_RATIO)], generator = torch.Generator().manual_seed(SEED))\n",
    "    \n",
    "def render_graph(x, y):\n",
    "    plt.plot(x, y)\n",
    "    plt.show()\n",
    "    \n",
    "    \n",
    "def main():\n",
    "    DEVICE = \"cuda\" if torch.cuda.is_available() else \"cpu\"\n",
    "    train_dataloader, val_dataloader = pre_process(DEVICE)\n",
    "    logger.debug(f\"Train data size: {len(train_dataloader)}\")\n",
    "    \n",
    "    model = Model()\n",
    "    train_loss = []\n",
    "    val_loss = []\n",
    "    \n",
    "    EPOCHS = 10\n",
    "    LEARNING_RATE = 1e-3\n",
    "    \n",
    "    CRITERION = torch.nn.CrossEntropyLoss()\n",
    "    OPTIMIZER = torch.optim.Adam(model.parameters(), lr=LEARNING_RATE)\n",
    "    for epoch in range(EPOCHS):\n",
    "        logger.info(f\"Epoch: {epoch}\")\n",
    "        model, train_batch_loss, val_batch_loss = training(model, train_dataloader, val_dataloader, CRITERION, OPTIMIZER, DEVICE)\n",
    "        train_loss.append(train_batch_loss)\n",
    "        val_loss.append(val_batch_loss)\n",
    "        \n",
    "    \n",
    "    model.save_model(model, 'model.pth')\n",
    "    # for X, y in train_dataloader:\n",
    "    #     plt.imshow(X)\n",
    "    \n",
    "    \n",
    "    \n",
    "# main()\n",
    "if __name__ == \"__main__\":\n",
    "    main()"
   ]
  }
 ],
 "metadata": {
  "kernelspec": {
   "display_name": "base",
   "language": "python",
   "name": "python3"
  },
  "language_info": {
   "codemirror_mode": {
    "name": "ipython",
    "version": 3
   },
   "file_extension": ".py",
   "mimetype": "text/x-python",
   "name": "python",
   "nbconvert_exporter": "python",
   "pygments_lexer": "ipython3",
   "version": "3.10.13"
  }
 },
 "nbformat": 4,
 "nbformat_minor": 2
}
