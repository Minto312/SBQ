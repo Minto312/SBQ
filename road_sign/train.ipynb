{
 "cells": [
  {
   "cell_type": "code",
   "execution_count": null,
   "metadata": {},
   "outputs": [],
   "source": [
    "# 画像の読み込み\n",
    "# $bash copy_image.sh　実行後のディレクトリ構成\n",
    "# ref: https://qiita.com/ba--shi/items/09f5f2f119ffbd9bb316\n",
    "import os\n",
    "\n",
    "image_list = []\n",
    "label_list = []\n",
    "\n",
    "for dir in os.listdir(\"images\"):\n",
    "    if dir == \".DS_Store\":\n",
    "        continue\n",
    "    img_dir = \"C:/Users/~/extend_scale2/\" + dir\n",
    "    # フォルダごとにラベル分けする\n",
    "    if dir == \"none\":\n",
    "        label = 0\n",
    "    if dir == \"1\":\n",
    "        label = 1\n",
    "    elif dir == \"2\":\n",
    "        label = 2\n",
    "    elif dir == \"3\":\n",
    "        label = 3\n",
    "    elif dir == \"4\":\n",
    "        label = 4\n",
    "    elif dir == \"5\":\n",
    "        label = 5\n",
    "    for file in os.listdir(img_dir):\n",
    "        if file != \".DS_Store\":\n",
    "            # 配列label_listに正解ラベルを追加\n",
    "            label_list.append(label)\n",
    "            # 配列image_listに画像の配列データを追加\n",
    "            filepath = img_dir + \"/\" + file\n",
    "            img = cv2.imread(filepath, 0)\n",
    "            image = img_to_array(img)\n",
    "            image_list.append(image)"
   ]
  }
 ],
 "metadata": {
  "language_info": {
   "name": "python"
  },
  "orig_nbformat": 4
 },
 "nbformat": 4,
 "nbformat_minor": 2
}
